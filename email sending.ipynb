{
 "cells": [
  {
   "cell_type": "code",
   "execution_count": 1,
   "metadata": {},
   "outputs": [
    {
     "name": "stdout",
     "output_type": "stream",
     "text": [
      "Requirement already satisfied: emails in c:\\users\\prasa\\anaconda3\\lib\\site-packages (0.6)\n",
      "Requirement already satisfied: python-dateutil in c:\\users\\prasa\\anaconda3\\lib\\site-packages (from emails) (2.8.1)\n",
      "Requirement already satisfied: premailer in c:\\users\\prasa\\anaconda3\\lib\\site-packages (from emails) (3.7.0)\n",
      "Requirement already satisfied: lxml in c:\\users\\prasa\\anaconda3\\lib\\site-packages (from emails) (4.6.1)\n",
      "Requirement already satisfied: requests in c:\\users\\prasa\\anaconda3\\lib\\site-packages (from emails) (2.24.0)\n",
      "Requirement already satisfied: chardet in c:\\users\\prasa\\anaconda3\\lib\\site-packages (from emails) (3.0.4)\n",
      "Requirement already satisfied: cssutils in c:\\users\\prasa\\anaconda3\\lib\\site-packages (from emails) (1.0.2)\n",
      "Requirement already satisfied: six>=1.5 in c:\\users\\prasa\\anaconda3\\lib\\site-packages (from python-dateutil->emails) (1.15.0)\n",
      "Requirement already satisfied: cssselect in c:\\users\\prasa\\anaconda3\\lib\\site-packages (from premailer->emails) (1.1.0)\n",
      "Requirement already satisfied: cachetools in c:\\users\\prasa\\anaconda3\\lib\\site-packages (from premailer->emails) (4.2.0)\n",
      "Requirement already satisfied: urllib3!=1.25.0,!=1.25.1,<1.26,>=1.21.1 in c:\\users\\prasa\\anaconda3\\lib\\site-packages (from requests->emails) (1.25.11)\n",
      "Requirement already satisfied: idna<3,>=2.5 in c:\\users\\prasa\\anaconda3\\lib\\site-packages (from requests->emails) (2.10)\n",
      "Requirement already satisfied: certifi>=2017.4.17 in c:\\users\\prasa\\anaconda3\\lib\\site-packages (from requests->emails) (2020.6.20)\n"
     ]
    }
   ],
   "source": [
    "!pip install emails"
   ]
  },
  {
   "cell_type": "code",
   "execution_count": 2,
   "metadata": {},
   "outputs": [],
   "source": []
  },
  {
   "cell_type": "code",
   "execution_count": 6,
   "metadata": {},
   "outputs": [],
   "source": [
    "import emails"
   ]
  },
  {
   "cell_type": "code",
   "execution_count": 7,
   "metadata": {},
   "outputs": [],
   "source": [
    " html_text = ''''<p>hiii prasad shanmukha</p>\n",
    "             <p>hope u are doing well</p>\n",
    "             <p>it&quot;s pleasure &nbsp;to meet u</p>\n",
    "             <p>I am happy to inform u that u are doing well in learning python</p>\n",
    "             <p><br></p>\n",
    "             <p>thank you,</p>\n",
    "             <p>regards S V V D Prasadu Jakka</p>\n",
    "             <p><br></p>'''\n",
    "                "
   ]
  },
  {
   "cell_type": "code",
   "execution_count": 11,
   "metadata": {},
   "outputs": [],
   "source": [
    "message = emails.html(html = html_text,\n",
    "                           subject=\"RRR movie is to be realesed soon\",\n",
    "                           mail_from=('tiger NTR', 'TIGERNTR5588@xyz.com'))"
   ]
  },
  {
   "cell_type": "code",
   "execution_count": 12,
   "metadata": {},
   "outputs": [],
   "source": [
    "mail_via_python = message.send(to='prasad.chinna98@gmail.com',\n",
    "\t                       smtp={'host': 'smtp.gmail.com','timeout': 5,'port':587,\n",
    "\t                       'user':'prasadshanmukha1998@gmail.com',\n",
    "\t                       'password':'prasad143143',\n",
    "\t                       'tls':True})"
   ]
  },
  {
   "cell_type": "code",
   "execution_count": 13,
   "metadata": {},
   "outputs": [
    {
     "data": {
      "text/plain": [
       "250"
      ]
     },
     "execution_count": 13,
     "metadata": {},
     "output_type": "execute_result"
    }
   ],
   "source": [
    "mail_via_python.status_code"
   ]
  },
  {
   "cell_type": "code",
   "execution_count": null,
   "metadata": {},
   "outputs": [],
   "source": []
  }
 ],
 "metadata": {
  "kernelspec": {
   "display_name": "Python 3",
   "language": "python",
   "name": "python3"
  },
  "language_info": {
   "codemirror_mode": {
    "name": "ipython",
    "version": 3
   },
   "file_extension": ".py",
   "mimetype": "text/x-python",
   "name": "python",
   "nbconvert_exporter": "python",
   "pygments_lexer": "ipython3",
   "version": "3.8.5"
  }
 },
 "nbformat": 4,
 "nbformat_minor": 4
}
